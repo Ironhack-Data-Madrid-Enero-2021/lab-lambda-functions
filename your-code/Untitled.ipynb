{
 "cells": [
  {
   "cell_type": "code",
   "execution_count": 2,
   "metadata": {},
   "outputs": [
    {
     "name": "stdout",
     "output_type": "stream",
     "text": [
      "[3, 4, 5, 6, 7, 8, 9, 10, 11, 12]\n"
     ]
    }
   ],
   "source": [
    "l = [1,2,3,4,5,6,7,8,9,10]\n",
    "f = lambda x: x+2\n",
    "b = []\n",
    "def modify_list(l, b):\n",
    "    for x in l:\n",
    "        b.append(f(x))\n",
    "modify_list(l, b)\n",
    "print(b)"
   ]
  },
  {
   "cell_type": "code",
   "execution_count": 51,
   "metadata": {},
   "outputs": [
    {
     "data": {
      "text/plain": [
       "False"
      ]
     },
     "execution_count": 51,
     "metadata": {},
     "output_type": "execute_result"
    }
   ],
   "source": [
    "mod = lambda x, y: x%y==0\n",
    "mod(3,2)"
   ]
  },
  {
   "cell_type": "code",
   "execution_count": 52,
   "metadata": {},
   "outputs": [],
   "source": [
    "def divisor(b):\n",
    "    # Your code here:\n",
    "    return lambda y: mod(y,b)\n",
    "divisible5=divisor(5)"
   ]
  },
  {
   "cell_type": "code",
   "execution_count": 53,
   "metadata": {},
   "outputs": [
    {
     "data": {
      "text/plain": [
       "False"
      ]
     },
     "execution_count": 53,
     "metadata": {},
     "output_type": "execute_result"
    }
   ],
   "source": [
    "divisible5(6)"
   ]
  },
  {
   "cell_type": "code",
   "execution_count": 69,
   "metadata": {},
   "outputs": [
    {
     "name": "stdout",
     "output_type": "stream",
     "text": [
      "['10', '11', '14', '17', '19']\n",
      "[('Aditi', 22), ('Navya', 17), ('Ram', 23), ('Rishabh', 14), ('Rohit', 19)]\n"
     ]
    }
   ],
   "source": [
    "#example1\n",
    "late = ('19', '17', '14', '10', '11')\n",
    "print(sorted(late))\n",
    " \n",
    "#example2\n",
    "list=[(\"Rohit\",19),(\"Rishabh\",14),(\"Ram\",23),\n",
    "(\"Navya\",17),(\"Aditi\",22)]\n",
    "print(sorted(list))"
   ]
  },
  {
   "cell_type": "code",
   "execution_count": 7,
   "metadata": {
    "scrolled": true
   },
   "outputs": [
    {
     "name": "stdout",
     "output_type": "stream",
     "text": [
      "[('Lab', 'Engineering'), ('Homework', 'Computer Science'), ('Essay', 'Political Science'), ('Module', 'Mathematics')]\n"
     ]
    },
    {
     "data": {
      "text/plain": [
       "('Homework', 'Computer Science')"
      ]
     },
     "execution_count": 7,
     "metadata": {},
     "output_type": "execute_result"
    }
   ],
   "source": [
    "list1 = ['Engineering', 'Computer Science', 'Political Science', 'Mathematics']\n",
    "list2 = ['Lab', 'Homework', 'Essay', 'Module']\n",
    "# Your code here:\n",
    "zipeado=list(zip(list2,list1))  \n",
    "print(zipeado)\n",
    "vuelta = lambda n, z: n[0]=z[1], n[1]=n[0]\n"
   ]
  },
  {
   "cell_type": "code",
   "execution_count": 4,
   "metadata": {},
   "outputs": [
    {
     "data": {
      "text/plain": [
       "True"
      ]
     },
     "execution_count": 4,
     "metadata": {},
     "output_type": "execute_result"
    }
   ],
   "source": [
    "list2 = ['Lab', 'Homework', 'Essay', 'Module']\n",
    "list2[2]<list2[3]"
   ]
  },
  {
   "cell_type": "code",
   "execution_count": 18,
   "metadata": {},
   "outputs": [
    {
     "name": "stdout",
     "output_type": "stream",
     "text": [
      "[(0, 3), (1, 2), (2, 3)]\n"
     ]
    }
   ],
   "source": [
    "lst = [(1, 2), (2, 3), (0, 3)]\n",
    "lst.sort()\n",
    "print(lst)"
   ]
  },
  {
   "cell_type": "code",
   "execution_count": 13,
   "metadata": {},
   "outputs": [
    {
     "data": {
      "text/plain": [
       "[(2, 1), (3, 2), (3, 0)]"
      ]
     },
     "execution_count": 13,
     "metadata": {},
     "output_type": "execute_result"
    }
   ],
   "source": [
    "lst = [(1, 2), (2, 3), (0, 3)]\n",
    "y=[]\n",
    "funcioncilla= lambda x: (x[1],x[0])\n",
    "[funcioncilla(x) for x in lst]"
   ]
  },
  {
   "cell_type": "code",
   "execution_count": null,
   "metadata": {},
   "outputs": [],
   "source": []
  }
 ],
 "metadata": {
  "kernelspec": {
   "display_name": "Python 3",
   "language": "python",
   "name": "python3"
  },
  "language_info": {
   "codemirror_mode": {
    "name": "ipython",
    "version": 3
   },
   "file_extension": ".py",
   "mimetype": "text/x-python",
   "name": "python",
   "nbconvert_exporter": "python",
   "pygments_lexer": "ipython3",
   "version": "3.8.5"
  }
 },
 "nbformat": 4,
 "nbformat_minor": 4
}
